{
  "nbformat": 4,
  "nbformat_minor": 0,
  "metadata": {
    "colab": {
      "provenance": [],
      "authorship_tag": "ABX9TyNQEKu5bt5a8HPCc6XLUCym",
      "include_colab_link": true
    },
    "kernelspec": {
      "name": "python3",
      "display_name": "Python 3"
    },
    "language_info": {
      "name": "python"
    }
  },
  "cells": [
    {
      "cell_type": "markdown",
      "metadata": {
        "id": "view-in-github",
        "colab_type": "text"
      },
      "source": [
        "<a href=\"https://colab.research.google.com/github/kfirs127/Ambiguity-Classifier-in-Open-Domain-Questions/blob/main/CreateEmbigutyDB.ipynb\" target=\"_parent\"><img src=\"https://colab.research.google.com/assets/colab-badge.svg\" alt=\"Open In Colab\"/></a>"
      ]
    },
    {
      "cell_type": "code",
      "execution_count": 1,
      "metadata": {
        "id": "wxRNgJFgFxnR"
      },
      "outputs": [],
      "source": [
        "from google.colab import drive\n",
        "import os\n",
        "import json\n",
        "import pandas as pd"
      ]
    },
    {
      "cell_type": "code",
      "source": [
        "shared_folder = '/content/drive/Shareddrives/Ambiguity Classifier in Open-Domain Questions'\n",
        "\n",
        "train_path = os.path.join(shared_folder, 'train.json')\n",
        "dev_path = os.path.join(shared_folder, 'dev.json')\n",
        "ambiguous_output_path = os.path.join(shared_folder, 'ambiguous_only_dataset.json')"
      ],
      "metadata": {
        "id": "Eo-JWNqwF6tr"
      },
      "execution_count": 2,
      "outputs": []
    },
    {
      "cell_type": "code",
      "source": [
        "drive.mount('/content/drive')"
      ],
      "metadata": {
        "colab": {
          "base_uri": "https://localhost:8080/"
        },
        "id": "55UVWktbF6yj",
        "outputId": "533e08db-56c8-40f0-c02a-032ca15376da"
      },
      "execution_count": 3,
      "outputs": [
        {
          "output_type": "stream",
          "name": "stdout",
          "text": [
            "Mounted at /content/drive\n"
          ]
        }
      ]
    },
    {
      "cell_type": "code",
      "source": [
        "def load_json(path):\n",
        "    with open(path, 'r') as f:\n",
        "        return json.load(f)\n",
        "\n",
        "train_data = load_json(train_path)\n",
        "dev_data = load_json(dev_path)\n",
        "\n",
        "print(f\"Train examples: {len(train_data)}\")\n",
        "print(f\"Dev examples: {len(dev_data)}\")\n",
        "\n",
        "all_data = train_data + dev_data\n",
        "print(f\"Total combined examples: {len(all_data)}\")"
      ],
      "metadata": {
        "colab": {
          "base_uri": "https://localhost:8080/"
        },
        "id": "I4SLMVLmF60_",
        "outputId": "528c8fc0-3e56-4283-b8f2-ec4ccff889b6"
      },
      "execution_count": null,
      "outputs": [
        {
          "output_type": "stream",
          "name": "stdout",
          "text": [
            "Train examples: 10036\n",
            "Dev examples: 2002\n",
            "Total combined examples: 12038\n"
          ]
        }
      ]
    },
    {
      "cell_type": "code",
      "source": [
        "# Filter only ambiguous examples with type: multipleQAs\n",
        "ambiguous_examples = []\n",
        "for entry in all_data:\n",
        "    multiqas = next((ann for ann in entry.get(\"annotations\", []) if ann.get(\"type\") == \"multipleQAs\"), None)\n",
        "    if multiqas:\n",
        "        ambiguous_examples.append({\n",
        "            \"id\": entry.get(\"id\"),\n",
        "            \"question\": entry.get(\"question\"),\n",
        "            \"qaPairs\": multiqas.get(\"qaPairs\", [])\n",
        "        })\n",
        "\n",
        "print(f\"Filtered ambiguous examples: {len(ambiguous_examples)}\")"
      ],
      "metadata": {
        "colab": {
          "base_uri": "https://localhost:8080/"
        },
        "id": "foviec4LF631",
        "outputId": "3b5c5d17-7f36-4aad-88ee-4e24dbe76f6d"
      },
      "execution_count": null,
      "outputs": [
        {
          "output_type": "stream",
          "name": "stdout",
          "text": [
            "Filtered ambiguous examples: 5921\n"
          ]
        }
      ]
    },
    {
      "cell_type": "code",
      "source": [
        "# Save the filtered dataset\n",
        "with open(ambiguous_output_path, 'w') as f:\n",
        "    json.dump(ambiguous_examples, f, indent=2)\n",
        "\n",
        "print(f\"Saved ambiguous questions to:\\n{ambiguous_output_path}\")"
      ],
      "metadata": {
        "colab": {
          "base_uri": "https://localhost:8080/"
        },
        "id": "UoWp6zH1G6MT",
        "outputId": "80370595-7fa8-4a8b-d9cd-5ef4a501e9ff"
      },
      "execution_count": null,
      "outputs": [
        {
          "output_type": "stream",
          "name": "stdout",
          "text": [
            "Saved ambiguous questions to:\n",
            "/content/drive/Shareddrives/Ambiguity Classifier in Open-Domain Questions/ambiguous_only_dataset.json\n"
          ]
        }
      ]
    },
    {
      "cell_type": "code",
      "source": [
        "with open(ambiguous_output_path, 'r') as f:\n",
        "    data = json.load(f)\n",
        "\n",
        "subset = data[:800]\n",
        "\n",
        "split_size = 200\n",
        "for i in range(4):\n",
        "    part_data = subset[i*split_size:(i+1)*split_size]\n",
        "    folder_name = f\"split_part_{i+1}\"\n",
        "    folder_path = os.path.join(shared_folder, folder_name)\n",
        "    os.makedirs(folder_path, exist_ok=True)\n",
        "\n",
        "    output_path = os.path.join(folder_path, 'part.json')\n",
        "    with open(output_path, 'w') as f:\n",
        "        json.dump(part_data, f, indent=2)\n",
        "\n",
        "    print(f\"Saved {len(part_data)} examples to {output_path}\")"
      ],
      "metadata": {
        "colab": {
          "base_uri": "https://localhost:8080/"
        },
        "id": "3YBAT5JSroU-",
        "outputId": "c24db05a-771b-4cac-e86b-f70903d56aea"
      },
      "execution_count": 4,
      "outputs": [
        {
          "output_type": "stream",
          "name": "stdout",
          "text": [
            "Saved 200 examples to /content/drive/Shareddrives/Ambiguity Classifier in Open-Domain Questions/split_part_1/part.json\n",
            "Saved 200 examples to /content/drive/Shareddrives/Ambiguity Classifier in Open-Domain Questions/split_part_2/part.json\n",
            "Saved 200 examples to /content/drive/Shareddrives/Ambiguity Classifier in Open-Domain Questions/split_part_3/part.json\n",
            "Saved 200 examples to /content/drive/Shareddrives/Ambiguity Classifier in Open-Domain Questions/split_part_4/part.json\n"
          ]
        }
      ]
    }
  ]
}